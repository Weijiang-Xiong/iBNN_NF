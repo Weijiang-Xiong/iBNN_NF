{
 "cells": [
  {
   "cell_type": "code",
   "execution_count": null,
   "metadata": {},
   "outputs": [],
   "source": [
    "import numpy as np\n",
    "import matplotlib.pyplot as plt\n",
    "\n",
    "import torch\n",
    "import torchvision\n",
    "import torchvision.transforms as transforms\n",
    "\n",
    "import torch.nn as nn\n",
    "import torch.optim as optim\n",
    "import torch.distributions as D\n",
    "import torch.nn.functional as F\n",
    "\n",
    "from torch.utils.data import DataLoader\n",
    "from models import LeNet, StoLeNet\n",
    "from utils import compute_accuracy, compute_ece_loss"
   ]
  },
  {
   "cell_type": "code",
   "execution_count": null,
   "metadata": {},
   "outputs": [],
   "source": [
    "train_deterministic = False # train a deterministic model as starting point "
   ]
  },
  {
   "cell_type": "code",
   "execution_count": null,
   "metadata": {},
   "outputs": [],
   "source": [
    "\n",
    "# setup device \n",
    "device = torch.device(\"cuda\" if torch.cuda.is_available() else \"cpu\")\n",
    "torch.backends.cudnn.benchmark = True\n",
    "torch.backends.cudnn.deterministic = True"
   ]
  },
  {
   "cell_type": "code",
   "execution_count": null,
   "metadata": {},
   "outputs": [],
   "source": [
    "device"
   ]
  },
  {
   "cell_type": "code",
   "execution_count": null,
   "metadata": {},
   "outputs": [],
   "source": [
    "# prepare data\n",
    "data_dir = \"./data\"\n",
    "fig_dir = \"./figs\"\n",
    "transform = transforms.Compose([\n",
    "    transforms.ToTensor(),\n",
    "    transforms.Normalize((0.5,),(0.5,))\n",
    "])\n",
    "\n",
    "trainset = torchvision.datasets.FashionMNIST(root=data_dir, train=True, transform=transform, download=False)\n",
    "testset = torchvision.datasets.FashionMNIST(root=data_dir, train=False, transform=transform, download=False)\n",
    "trainloader = DataLoader(trainset, batch_size=128, shuffle=True)\n",
    "testloader = DataLoader(testset, batch_size=64, shuffle=False)\n",
    "class_names = ['T-shirt/top', 'Trouser', 'Pullover', 'Dress', 'Coat', 'Sandal',\n",
    "                'Shirt', 'Sneaker', 'Bag', 'Ankle boot']"
   ]
  },
  {
   "cell_type": "code",
   "execution_count": null,
   "metadata": {},
   "outputs": [],
   "source": [
    "# ===================================================== #\n",
    "# ========= train a deterministic model =============== #\n",
    "# ===================================================== #\n",
    "if train_deterministic:\n",
    "    num_epochs = 10\n",
    "    base_model = LeNet().to(device)\n",
    "    criterion = nn.CrossEntropyLoss()\n",
    "    optimizer = optim.SGD(base_model.parameters(), lr=0.002, momentum=0.9)\n",
    "\n",
    "    loss_list, acc_list, ece_list = [[] for _ in range(3)]\n",
    "    for epoch in range(num_epochs):\n",
    "        base_model.train()\n",
    "        batch_loss = []\n",
    "        for img, label in trainloader:\n",
    "            img, label = img.to(device), label.to(device)\n",
    "            pred = base_model(img)\n",
    "            loss = criterion(pred, label)\n",
    "            \n",
    "            optimizer.zero_grad()\n",
    "            loss.backward()\n",
    "            optimizer.step()\n",
    "            \n",
    "            batch_loss.append(loss.item())\n",
    "            \n",
    "        avg_loss = sum(batch_loss)/len(batch_loss)\n",
    "        base_acc = compute_accuracy(base_model, testloader, device=device)\n",
    "        base_ece = compute_ece_loss(base_model, testloader, device=device)\n",
    "        print(\"Base Model Epoch {} Avg Loss {:.4f} Acc {:.4f} ECE {:.4f}\".format(epoch, avg_loss, base_acc, base_ece))\n",
    "        loss_list.append(avg_loss)\n",
    "        acc_list.append(base_acc)\n",
    "        ece_list.append(base_ece)"
   ]
  },
  {
   "cell_type": "code",
   "execution_count": null,
   "metadata": {},
   "outputs": [],
   "source": [
    "if train_deterministic:\n",
    "    fig = plt.figure(figsize=(18, 5))\n",
    "    plt.subplot(1,3,1)\n",
    "    plt.plot(loss_list)\n",
    "    plt.title(\"Training Loss\")\n",
    "    plt.subplot(1,3,2)\n",
    "    plt.plot(acc_list)\n",
    "    plt.title(\"Test Accuracy\")\n",
    "    plt.subplot(1,3,3)\n",
    "    plt.plot(ece_list)\n",
    "    plt.title(\"ECE on Test Set\")\n",
    "    plt.show()\n",
    "    fig.tight_layout()\n",
    "    fig.savefig(fig_dir + \"/\" + \"deterministic lenet.jpg\")"
   ]
  },
  {
   "cell_type": "code",
   "execution_count": null,
   "metadata": {},
   "outputs": [],
   "source": [
    "# ===================================================== #\n",
    "# == migrate from base model, finetune and train flow = #\n",
    "# ===================================================== #\n",
    "\n",
    "sto_model_cfg = [\n",
    "            (\"normal\", {\"loc\":1.0, \"scale\":0.5},  # the name of base distribution and parameters for that distribution\n",
    "                [(\"affine\", 1, {\"learnable\":True}), # the first stack of flows (type, depth, params)\n",
    "                (\"planar2d\", 2, {\"init_sigma\":0.01}),# the second stack of flows (type, depth, params)\n",
    "                (\"flowstep\", 2, {\"width\":10,\"keepdim\":True}),\n",
    "                (\"planar2d\", 2, {\"init_sigma\":0.01})] \n",
    "            ),\n",
    "            (\n",
    "                \"normal\", {\"loc\":1.0, \"scale\":0.5}, \n",
    "                [(\"affine\", 1), \n",
    "                 (\"planar\", 6)]\n",
    "            )\n",
    "            ]\n",
    "sto_model = StoLeNet(sto_cfg=sto_model_cfg).to(device)\n",
    "\n",
    "if train_deterministic:\n",
    "    sto_model.migrate_from_det_model(base_model)\n",
    "\n",
    "det_params, sto_params = sto_model.det_and_sto_params()\n",
    "optimizer = optim.Adam([\n",
    "                {'params': det_params, 'lr': 2e-4},\n",
    "                {'params': sto_params, 'lr': 2e-3}\n",
    "            ])"
   ]
  },
  {
   "cell_type": "code",
   "execution_count": null,
   "metadata": {},
   "outputs": [],
   "source": [
    "num_epochs = 30\n",
    "loss_list, ll_list, kl_list, acc_list, ece_list = [[] for _ in range(5)]\n",
    "for epoch in range(num_epochs):\n",
    "    sto_model.train()\n",
    "    batch_loss, batch_ll, batch_kl = [[] for _ in range(3)]\n",
    "    for img, label in trainloader:\n",
    "        img, label = img.to(device), label.to(device)\n",
    "        pred = sto_model(img)\n",
    "        log_likelihood, kl = sto_model.calc_loss(pred, label)\n",
    "        loss = -log_likelihood + kl / len(trainloader.dataset)\n",
    "        \n",
    "        optimizer.zero_grad()\n",
    "        loss.backward()\n",
    "        optimizer.step()\n",
    "        \n",
    "        batch_loss.append(loss.item())\n",
    "        batch_ll.append(log_likelihood.item()) \n",
    "        batch_kl.append(kl.item()/ len(trainloader.dataset))\n",
    "    avg = lambda l: sum(l)/len(l)\n",
    "    avg_loss, avg_ll, avg_kl = avg(batch_loss), avg(batch_ll), avg(batch_kl)\n",
    "    sto_acc = compute_accuracy(sto_model, testloader)\n",
    "    sto_ece = compute_ece_loss(sto_model, testloader)\n",
    "    print(\"Sto Model Epoch {} Avg Loss {:.4f} Likelihood {:.4f} KL {:.4f} Acc {:.4f} ECE {:.4f}\".format(\n",
    "                        epoch, avg_loss, avg_ll, avg_kl,sto_acc, sto_ece))\n",
    "    loss_list.append(avg_loss)\n",
    "    ll_list.append(avg_ll)\n",
    "    kl_list.append(avg_kl)\n",
    "    acc_list.append(sto_acc)\n",
    "    ece_list.append(sto_ece)"
   ]
  },
  {
   "cell_type": "code",
   "execution_count": null,
   "metadata": {},
   "outputs": [],
   "source": [
    "fig = plt.figure(figsize=(15, 10))\n",
    "plt.subplot(2,3,1)\n",
    "plt.plot(loss_list)\n",
    "plt.title(\"Negative ELBO\")\n",
    "plt.subplot(2,3,2)\n",
    "plt.plot(ll_list)\n",
    "plt.title(\"Log Likelihood\")\n",
    "plt.subplot(2,3,3)\n",
    "plt.plot(kl_list)\n",
    "plt.title(\"KL Divergence\")\n",
    "plt.subplot(2,3,4)\n",
    "plt.plot(acc_list)\n",
    "plt.title(\"Test Accuracy\")\n",
    "plt.subplot(2,3,5)\n",
    "plt.plot(ece_list)\n",
    "plt.title(\"ECE on testset\")\n",
    "plt.show()\n",
    "fig.tight_layout()\n",
    "fig.savefig(fig_dir + \"/\" + \"stochastic lenet.jpg\")"
   ]
  },
  {
   "cell_type": "code",
   "execution_count": null,
   "metadata": {},
   "outputs": [],
   "source": []
  }
 ],
 "metadata": {
  "kernelspec": {
   "name": "python3",
   "display_name": "Python 3.7.0 64-bit ('pytorch': conda)",
   "metadata": {
    "interpreter": {
     "hash": "13a107b0f98c6c2e6df453b2de1e5efa2933315b39e9422c24a8ba7077fa9b2d"
    }
   }
  },
  "language_info": {
   "codemirror_mode": {
    "name": "ipython",
    "version": 3
   },
   "file_extension": ".py",
   "mimetype": "text/x-python",
   "name": "python",
   "nbconvert_exporter": "python",
   "pygments_lexer": "ipython3",
   "version": "3.7.0"
  }
 },
 "nbformat": 4,
 "nbformat_minor": 2
}